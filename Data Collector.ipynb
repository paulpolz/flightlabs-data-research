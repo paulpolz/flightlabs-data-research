{
 "cells": [
  {
   "cell_type": "markdown",
   "id": "1eb32d20-6a79-4709-a3bd-18748ce04a34",
   "metadata": {},
   "source": [
    "https://www.goflightlabs.com"
   ]
  },
  {
   "cell_type": "code",
   "execution_count": 1,
   "id": "2d12c6a0-2a5a-4508-8bd2-8cf2abf7fa67",
   "metadata": {},
   "outputs": [],
   "source": [
    "ACCESS_KEY = 'ACCESS_KEY'"
   ]
  },
  {
   "cell_type": "code",
   "execution_count": 2,
   "id": "0f595000-7461-48bc-9685-aadc0a498544",
   "metadata": {},
   "outputs": [],
   "source": [
    "import requests\n",
    "import json\n",
    "from pprint import pprint\n",
    "from datetime import datetime, timedelta\n",
    "\n",
    "import pandas as pd\n",
    "import numpy as np\n",
    "\n",
    "import plotly.express as px\n",
    "\n",
    "from tqdm import tqdm"
   ]
  },
  {
   "cell_type": "code",
   "execution_count": 3,
   "id": "16fcab94-cf3f-4005-a5d4-0c6a82c8bd35",
   "metadata": {},
   "outputs": [],
   "source": [
    "link_flights = 'https://app.goflightlabs.com/flights'\n",
    "link_airlines = 'https://app.goflightlabs.com/airlines'\n",
    "link_airports = 'https://app.goflightlabs.com/airports'\n",
    "link_airport_data = 'https://app.goflightlabs.com/get-airport-data'\n",
    "link_countries = 'https://app.goflightlabs.com/countries'\n",
    "\n",
    "date = '2023-01-01'\n",
    "link_historical = f'https://app.goflightlabs.com/historical/{date}'"
   ]
  },
  {
   "cell_type": "code",
   "execution_count": 4,
   "id": "6586320d-e9ea-4d05-af88-7aa62b063c06",
   "metadata": {},
   "outputs": [],
   "source": [
    "def get_response(link, params, is_logger=True):\n",
    "    response = requests.get(link, params)\n",
    "    if is_logger:\n",
    "        print(response)\n",
    "    \n",
    "    return response"
   ]
  },
  {
   "cell_type": "markdown",
   "id": "1b494ba2-27f5-4127-b9a6-af389b938a79",
   "metadata": {},
   "source": [
    "## Get Countries"
   ]
  },
  {
   "cell_type": "code",
   "execution_count": 5,
   "id": "c3fad13c-c6c6-40f7-81ec-9d35e6c490d7",
   "metadata": {},
   "outputs": [
    {
     "name": "stdout",
     "output_type": "stream",
     "text": [
      "<Response [200]>\n"
     ]
    }
   ],
   "source": [
    "# create params\n",
    "params = {\n",
    "    'access_key': ACCESS_KEY\n",
    "}\n",
    "# get countries params\n",
    "response = get_response(link_countries, params)\n",
    "response_json = response.json()\n",
    "\n",
    "# collect list of European Union countries\n",
    "eu_coutries_list = []\n",
    "for country in response_json['data']:\n",
    "    # EU countries are located on European continent and have EUR currency\n",
    "    if country['codeCurrency'] == 'EUR' and country['continent'] == 'EU':\n",
    "        eu_coutries_list.append(country)"
   ]
  },
  {
   "cell_type": "code",
   "execution_count": 13,
   "id": "5ec5a0c5-2049-481d-b759-76a511812235",
   "metadata": {},
   "outputs": [
    {
     "name": "stdout",
     "output_type": "stream",
     "text": [
      "Count of EU countries: 24\n"
     ]
    }
   ],
   "source": [
    "print(f'Count of EU countries: {len(eu_coutries_list)}')"
   ]
  },
  {
   "cell_type": "code",
   "execution_count": 15,
   "id": "40631759-8eb9-423b-acb8-7fa5ba5e5632",
   "metadata": {},
   "outputs": [
    {
     "name": "stdout",
     "output_type": "stream",
     "text": [
      "EU countries response example\n"
     ]
    },
    {
     "data": {
      "text/plain": [
       "{'capital': 'Rome',\n",
       " 'codeCurrency': 'EUR',\n",
       " 'codeFips': 'IT',\n",
       " 'codeIso2Country': 'IT',\n",
       " 'codeIso3Country': 'ITA',\n",
       " 'continent': 'EU',\n",
       " 'countryId': 112,\n",
       " 'nameCountry': 'Italy',\n",
       " 'nameCurrency': 'Euro',\n",
       " 'numericIso': '380',\n",
       " 'phonePrefix': '39',\n",
       " 'population': '60340328'}"
      ]
     },
     "execution_count": 15,
     "metadata": {},
     "output_type": "execute_result"
    }
   ],
   "source": [
    "print('EU countries response example')\n",
    "eu_coutries_list[12]"
   ]
  },
  {
   "cell_type": "code",
   "execution_count": 8,
   "id": "1811bb5e-b135-4378-80ee-f3d4352bca45",
   "metadata": {},
   "outputs": [
    {
     "data": {
      "text/html": [
       "<div>\n",
       "<style scoped>\n",
       "    .dataframe tbody tr th:only-of-type {\n",
       "        vertical-align: middle;\n",
       "    }\n",
       "\n",
       "    .dataframe tbody tr th {\n",
       "        vertical-align: top;\n",
       "    }\n",
       "\n",
       "    .dataframe thead th {\n",
       "        text-align: right;\n",
       "    }\n",
       "</style>\n",
       "<table border=\"1\" class=\"dataframe\">\n",
       "  <thead>\n",
       "    <tr style=\"text-align: right;\">\n",
       "      <th></th>\n",
       "      <th>capital</th>\n",
       "      <th>codeCurrency</th>\n",
       "      <th>codeFips</th>\n",
       "      <th>codeIso2Country</th>\n",
       "      <th>codeIso3Country</th>\n",
       "      <th>continent</th>\n",
       "      <th>countryId</th>\n",
       "      <th>nameCountry</th>\n",
       "      <th>nameCurrency</th>\n",
       "      <th>numericIso</th>\n",
       "      <th>phonePrefix</th>\n",
       "      <th>population</th>\n",
       "    </tr>\n",
       "  </thead>\n",
       "  <tbody>\n",
       "    <tr>\n",
       "      <th>0</th>\n",
       "      <td>Andorra la Vella</td>\n",
       "      <td>EUR</td>\n",
       "      <td>AN</td>\n",
       "      <td>AD</td>\n",
       "      <td>AND</td>\n",
       "      <td>EU</td>\n",
       "      <td>1</td>\n",
       "      <td>Andorra</td>\n",
       "      <td>Euro</td>\n",
       "      <td>20</td>\n",
       "      <td>376</td>\n",
       "      <td>84000</td>\n",
       "    </tr>\n",
       "    <tr>\n",
       "      <th>1</th>\n",
       "      <td>Vienna</td>\n",
       "      <td>EUR</td>\n",
       "      <td>AU</td>\n",
       "      <td>AT</td>\n",
       "      <td>AUT</td>\n",
       "      <td>EU</td>\n",
       "      <td>13</td>\n",
       "      <td>Austria</td>\n",
       "      <td>Euro</td>\n",
       "      <td>40</td>\n",
       "      <td>43</td>\n",
       "      <td>8205000</td>\n",
       "    </tr>\n",
       "    <tr>\n",
       "      <th>2</th>\n",
       "      <td>Mariehamn</td>\n",
       "      <td>EUR</td>\n",
       "      <td></td>\n",
       "      <td>AX</td>\n",
       "      <td>ALA</td>\n",
       "      <td>EU</td>\n",
       "      <td>16</td>\n",
       "      <td>Aland Islands</td>\n",
       "      <td>Euro</td>\n",
       "      <td>248</td>\n",
       "      <td>+358-18</td>\n",
       "      <td>26711</td>\n",
       "    </tr>\n",
       "    <tr>\n",
       "      <th>3</th>\n",
       "      <td>Brussels</td>\n",
       "      <td>EUR</td>\n",
       "      <td>BE</td>\n",
       "      <td>BE</td>\n",
       "      <td>BEL</td>\n",
       "      <td>EU</td>\n",
       "      <td>21</td>\n",
       "      <td>Belgium</td>\n",
       "      <td>Euro</td>\n",
       "      <td>56</td>\n",
       "      <td>32</td>\n",
       "      <td>10403000</td>\n",
       "    </tr>\n",
       "    <tr>\n",
       "      <th>4</th>\n",
       "      <td>Nicosia</td>\n",
       "      <td>EUR</td>\n",
       "      <td>CY</td>\n",
       "      <td>CY</td>\n",
       "      <td>CYP</td>\n",
       "      <td>EU</td>\n",
       "      <td>57</td>\n",
       "      <td>Cyprus</td>\n",
       "      <td>Euro</td>\n",
       "      <td>196</td>\n",
       "      <td>357</td>\n",
       "      <td>1102677</td>\n",
       "    </tr>\n",
       "  </tbody>\n",
       "</table>\n",
       "</div>"
      ],
      "text/plain": [
       "            capital codeCurrency codeFips codeIso2Country codeIso3Country  \\\n",
       "0  Andorra la Vella          EUR       AN              AD             AND   \n",
       "1            Vienna          EUR       AU              AT             AUT   \n",
       "2         Mariehamn          EUR                       AX             ALA   \n",
       "3          Brussels          EUR       BE              BE             BEL   \n",
       "4           Nicosia          EUR       CY              CY             CYP   \n",
       "\n",
       "  continent  countryId    nameCountry nameCurrency numericIso phonePrefix  \\\n",
       "0        EU          1        Andorra         Euro         20         376   \n",
       "1        EU         13        Austria         Euro         40          43   \n",
       "2        EU         16  Aland Islands         Euro        248     +358-18   \n",
       "3        EU         21        Belgium         Euro         56          32   \n",
       "4        EU         57         Cyprus         Euro        196         357   \n",
       "\n",
       "  population  \n",
       "0      84000  \n",
       "1    8205000  \n",
       "2      26711  \n",
       "3   10403000  \n",
       "4    1102677  "
      ]
     },
     "execution_count": 8,
     "metadata": {},
     "output_type": "execute_result"
    }
   ],
   "source": [
    "df_countries = pd.DataFrame(eu_coutries_list)\n",
    "df_countries.head()"
   ]
  },
  {
   "cell_type": "markdown",
   "id": "1d2dcb70-3672-494c-bc9f-d5d2645e3b86",
   "metadata": {},
   "source": [
    "## Get Airports"
   ]
  },
  {
   "cell_type": "code",
   "execution_count": 17,
   "id": "78ff229d-08e3-4baf-b68e-5f139c6d7bde",
   "metadata": {},
   "outputs": [
    {
     "name": "stdout",
     "output_type": "stream",
     "text": [
      "<Response [200]>\n",
      "<Response [200]>\n",
      "<Response [200]>\n",
      "<Response [200]>\n",
      "<Response [200]>\n",
      "<Response [200]>\n",
      "<Response [200]>\n",
      "<Response [200]>\n",
      "<Response [200]>\n",
      "<Response [200]>\n",
      "<Response [200]>\n",
      "<Response [200]>\n",
      "<Response [200]>\n",
      "<Response [200]>\n",
      "<Response [200]>\n",
      "<Response [200]>\n",
      "<Response [200]>\n",
      "<Response [200]>\n",
      "<Response [200]>\n",
      "<Response [200]>\n",
      "<Response [200]>\n",
      "<Response [200]>\n",
      "<Response [200]>\n",
      "<Response [200]>\n"
     ]
    }
   ],
   "source": [
    "# create params\n",
    "params = {\n",
    "    'access_key': ACCESS_KEY,\n",
    "}\n",
    "\n",
    "# collect airports params by each country\n",
    "airports_data_dict_list = []\n",
    "for country in eu_coutries_list:\n",
    "    # add country code to params\n",
    "    params['codeIso2Country'] = country['codeIso2Country']\n",
    "    # get airports params\n",
    "    response = get_response(link_airports, params)\n",
    "    response_json = response.json()\n",
    "    # check if airports by the country were found\n",
    "    if response_json['success']:\n",
    "        response_json_data = response_json['data']\n",
    "        airports_data_dict_list.append(response_json_data)\n",
    "\n",
    "# union all the airports' responses data to the common dataframe\n",
    "for i in range(len(airports_data_dict_list)):\n",
    "    if i == 0:\n",
    "        df_airports = pd.DataFrame(airports_data_dict_list[i])\n",
    "    else:\n",
    "        df_airports = pd.concat([df_airports, pd.DataFrame(airports_data_dict_list[i])])"
   ]
  },
  {
   "cell_type": "code",
   "execution_count": 25,
   "id": "a78da754-1948-4832-986c-74b68ae35f75",
   "metadata": {},
   "outputs": [
    {
     "name": "stdout",
     "output_type": "stream",
     "text": [
      "Count of EU airports: 806\n"
     ]
    }
   ],
   "source": [
    "print(f'Count of EU airports: {df_airports.count()[\"airportId\"]}')"
   ]
  },
  {
   "cell_type": "markdown",
   "id": "e756a103-e038-41bf-bfca-94d76bf4d451",
   "metadata": {},
   "source": [
    "## Get Flights"
   ]
  },
  {
   "cell_type": "markdown",
   "id": "18ac965a-d7b9-475d-946a-0aa59e9ca7f8",
   "metadata": {},
   "source": [
    "- Select a start date\n",
    "- Select a period end date (+3-5 days from start_date) \n",
    "- Per each airport:\n",
    "    - Collect all the arrival flights to the selected airport\n",
    "- Save the data to JSON"
   ]
  },
  {
   "cell_type": "code",
   "execution_count": 8,
   "id": "c934a787-4c70-46f8-ab07-68f03f4f7de4",
   "metadata": {},
   "outputs": [],
   "source": [
    "def get_next_date(date, delta):\n",
    "    next_datetime = datetime.strptime(date, '%Y-%m-%d') + timedelta(days=delta)\n",
    "    next_date = datetime.strftime(next_datetime, '%Y-%m-%d')\n",
    "    return next_date"
   ]
  },
  {
   "cell_type": "code",
   "execution_count": 17,
   "id": "9ef3b310-96c4-4b50-a97b-e3f672ce8ebc",
   "metadata": {},
   "outputs": [
    {
     "data": {
      "text/plain": [
       "'2023-05-10'"
      ]
     },
     "execution_count": 17,
     "metadata": {},
     "output_type": "execute_result"
    }
   ],
   "source": [
    "get_next_date('2023-01-25', 105)"
   ]
  },
  {
   "cell_type": "code",
   "execution_count": 18,
   "id": "9bffbacb-bce1-4e94-84b0-fe47294a76bc",
   "metadata": {},
   "outputs": [
    {
     "name": "stderr",
     "output_type": "stream",
     "text": [
      "100%|█████████████████████████████████████████| 806/806 [12:18<00:00,  1.09it/s]\n"
     ]
    },
    {
     "name": "stdout",
     "output_type": "stream",
     "text": [
      "2023-01-25\n"
     ]
    },
    {
     "name": "stderr",
     "output_type": "stream",
     "text": [
      "100%|█████████████████████████████████████████| 806/806 [21:09<00:00,  1.57s/it]\n"
     ]
    },
    {
     "name": "stdout",
     "output_type": "stream",
     "text": [
      "2023-01-29\n"
     ]
    },
    {
     "name": "stderr",
     "output_type": "stream",
     "text": [
      "100%|█████████████████████████████████████████| 806/806 [21:01<00:00,  1.57s/it]\n"
     ]
    },
    {
     "name": "stdout",
     "output_type": "stream",
     "text": [
      "2023-02-02\n"
     ]
    },
    {
     "name": "stderr",
     "output_type": "stream",
     "text": [
      "100%|█████████████████████████████████████████| 806/806 [20:33<00:00,  1.53s/it]\n"
     ]
    },
    {
     "name": "stdout",
     "output_type": "stream",
     "text": [
      "2023-02-06\n"
     ]
    },
    {
     "name": "stderr",
     "output_type": "stream",
     "text": [
      "100%|█████████████████████████████████████████| 806/806 [20:40<00:00,  1.54s/it]\n"
     ]
    },
    {
     "name": "stdout",
     "output_type": "stream",
     "text": [
      "2023-02-10\n"
     ]
    },
    {
     "name": "stderr",
     "output_type": "stream",
     "text": [
      "100%|█████████████████████████████████████████| 806/806 [20:47<00:00,  1.55s/it]\n"
     ]
    },
    {
     "name": "stdout",
     "output_type": "stream",
     "text": [
      "2023-02-14\n"
     ]
    },
    {
     "name": "stderr",
     "output_type": "stream",
     "text": [
      "100%|█████████████████████████████████████████| 806/806 [20:48<00:00,  1.55s/it]\n"
     ]
    },
    {
     "name": "stdout",
     "output_type": "stream",
     "text": [
      "2023-02-18\n"
     ]
    },
    {
     "name": "stderr",
     "output_type": "stream",
     "text": [
      "100%|█████████████████████████████████████████| 806/806 [20:36<00:00,  1.53s/it]\n"
     ]
    },
    {
     "name": "stdout",
     "output_type": "stream",
     "text": [
      "2023-02-22\n"
     ]
    },
    {
     "name": "stderr",
     "output_type": "stream",
     "text": [
      "100%|█████████████████████████████████████████| 806/806 [21:36<00:00,  1.61s/it]\n"
     ]
    },
    {
     "name": "stdout",
     "output_type": "stream",
     "text": [
      "2023-02-26\n"
     ]
    },
    {
     "name": "stderr",
     "output_type": "stream",
     "text": [
      "100%|█████████████████████████████████████████| 806/806 [21:12<00:00,  1.58s/it]\n"
     ]
    },
    {
     "name": "stdout",
     "output_type": "stream",
     "text": [
      "2023-03-02\n"
     ]
    },
    {
     "name": "stderr",
     "output_type": "stream",
     "text": [
      "100%|█████████████████████████████████████████| 806/806 [21:08<00:00,  1.57s/it]\n"
     ]
    },
    {
     "name": "stdout",
     "output_type": "stream",
     "text": [
      "2023-03-06\n"
     ]
    },
    {
     "name": "stderr",
     "output_type": "stream",
     "text": [
      "100%|█████████████████████████████████████████| 806/806 [21:38<00:00,  1.61s/it]\n"
     ]
    },
    {
     "name": "stdout",
     "output_type": "stream",
     "text": [
      "2023-03-10\n"
     ]
    },
    {
     "name": "stderr",
     "output_type": "stream",
     "text": [
      "100%|█████████████████████████████████████████| 806/806 [21:01<00:00,  1.57s/it]\n"
     ]
    },
    {
     "name": "stdout",
     "output_type": "stream",
     "text": [
      "2023-03-14\n"
     ]
    },
    {
     "name": "stderr",
     "output_type": "stream",
     "text": [
      "100%|█████████████████████████████████████████| 806/806 [21:13<00:00,  1.58s/it]\n"
     ]
    },
    {
     "name": "stdout",
     "output_type": "stream",
     "text": [
      "2023-03-18\n"
     ]
    },
    {
     "name": "stderr",
     "output_type": "stream",
     "text": [
      "100%|█████████████████████████████████████████| 806/806 [22:31<00:00,  1.68s/it]\n"
     ]
    },
    {
     "name": "stdout",
     "output_type": "stream",
     "text": [
      "2023-03-22\n"
     ]
    },
    {
     "name": "stderr",
     "output_type": "stream",
     "text": [
      "100%|█████████████████████████████████████████| 806/806 [21:12<00:00,  1.58s/it]\n"
     ]
    },
    {
     "name": "stdout",
     "output_type": "stream",
     "text": [
      "2023-03-26\n"
     ]
    },
    {
     "name": "stderr",
     "output_type": "stream",
     "text": [
      "100%|█████████████████████████████████████████| 806/806 [22:02<00:00,  1.64s/it]\n"
     ]
    },
    {
     "name": "stdout",
     "output_type": "stream",
     "text": [
      "2023-03-30\n"
     ]
    },
    {
     "name": "stderr",
     "output_type": "stream",
     "text": [
      "100%|█████████████████████████████████████████| 806/806 [22:10<00:00,  1.65s/it]\n"
     ]
    },
    {
     "name": "stdout",
     "output_type": "stream",
     "text": [
      "2023-04-03\n"
     ]
    },
    {
     "name": "stderr",
     "output_type": "stream",
     "text": [
      "100%|█████████████████████████████████████████| 806/806 [23:16<00:00,  1.73s/it]\n"
     ]
    },
    {
     "name": "stdout",
     "output_type": "stream",
     "text": [
      "2023-04-07\n"
     ]
    },
    {
     "name": "stderr",
     "output_type": "stream",
     "text": [
      "100%|█████████████████████████████████████████| 806/806 [27:33<00:00,  2.05s/it]\n"
     ]
    },
    {
     "name": "stdout",
     "output_type": "stream",
     "text": [
      "2023-04-11\n"
     ]
    },
    {
     "name": "stderr",
     "output_type": "stream",
     "text": [
      "100%|█████████████████████████████████████████| 806/806 [23:44<00:00,  1.77s/it]\n"
     ]
    },
    {
     "name": "stdout",
     "output_type": "stream",
     "text": [
      "2023-04-15\n"
     ]
    },
    {
     "name": "stderr",
     "output_type": "stream",
     "text": [
      "100%|█████████████████████████████████████████| 806/806 [22:45<00:00,  1.69s/it]\n"
     ]
    },
    {
     "name": "stdout",
     "output_type": "stream",
     "text": [
      "2023-04-19\n"
     ]
    },
    {
     "name": "stderr",
     "output_type": "stream",
     "text": [
      "100%|█████████████████████████████████████████| 806/806 [21:37<00:00,  1.61s/it]\n"
     ]
    },
    {
     "name": "stdout",
     "output_type": "stream",
     "text": [
      "2023-04-23\n"
     ]
    },
    {
     "name": "stderr",
     "output_type": "stream",
     "text": [
      "100%|█████████████████████████████████████████| 806/806 [22:59<00:00,  1.71s/it]\n"
     ]
    },
    {
     "name": "stdout",
     "output_type": "stream",
     "text": [
      "2023-04-27\n"
     ]
    },
    {
     "name": "stderr",
     "output_type": "stream",
     "text": [
      "100%|█████████████████████████████████████████| 806/806 [24:17<00:00,  1.81s/it]\n"
     ]
    },
    {
     "name": "stdout",
     "output_type": "stream",
     "text": [
      "2023-05-01\n"
     ]
    },
    {
     "name": "stderr",
     "output_type": "stream",
     "text": [
      "100%|█████████████████████████████████████████| 806/806 [22:13<00:00,  1.65s/it]\n"
     ]
    },
    {
     "name": "stdout",
     "output_type": "stream",
     "text": [
      "2023-05-05\n"
     ]
    },
    {
     "name": "stderr",
     "output_type": "stream",
     "text": [
      "100%|█████████████████████████████████████████| 806/806 [22:25<00:00,  1.67s/it]\n"
     ]
    },
    {
     "name": "stdout",
     "output_type": "stream",
     "text": [
      "2023-05-09\n"
     ]
    }
   ],
   "source": [
    "# Link\n",
    "link_historical = 'https://app.goflightlabs.com/historical/'\n",
    "# List of airports\n",
    "df_airports_list = df_airports['codeIataAirport'].tolist()\n",
    "# Parsing period\n",
    "start_date = '2023-01-25'\n",
    "end_date = get_next_date(start_date, 105)\n",
    "\n",
    "# Main Loop by dates\n",
    "while start_date <= end_date:\n",
    "    # Each loop iteration = 3 days period\n",
    "    date_to = get_next_date(start_date, 3)\n",
    "    # Create params dict\n",
    "    params = {\n",
    "        'access_key': ACCESS_KEY,\n",
    "        'type': 'arrival',\n",
    "        'date_to': date_to\n",
    "    }\n",
    "    # Collect arrival floghts for each airport\n",
    "    airport_response_list = []\n",
    "    for codeIataAirport in tqdm(df_airports_list):\n",
    "        params['code'] = codeIataAirport\n",
    "        # Get response data\n",
    "        response = get_response(link_historical+start_date, params, False)\n",
    "        response_json = response.json()\n",
    "        # Check response data\n",
    "        if response_json['success']:\n",
    "            # Collect response data\n",
    "            airport_response_list.append(response_json['data'])\n",
    "    # Save middle data to JSON\n",
    "    with open(f'flights_arrival_data/{start_date}.json', 'w') as f:\n",
    "        json.dump(airport_response_list, f)\n",
    "    # Init new start date\n",
    "    print(start_date)\n",
    "    start_date = get_next_date(date_to, 1)"
   ]
  },
  {
   "cell_type": "code",
   "execution_count": null,
   "id": "11756daf-2d8d-4d6c-a76d-3b7ce7d127fd",
   "metadata": {},
   "outputs": [],
   "source": []
  }
 ],
 "metadata": {
  "kernelspec": {
   "display_name": "Python 3 (ipykernel)",
   "language": "python",
   "name": "python3"
  },
  "language_info": {
   "codemirror_mode": {
    "name": "ipython",
    "version": 3
   },
   "file_extension": ".py",
   "mimetype": "text/x-python",
   "name": "python",
   "nbconvert_exporter": "python",
   "pygments_lexer": "ipython3",
   "version": "3.9.6"
  }
 },
 "nbformat": 4,
 "nbformat_minor": 5
}
